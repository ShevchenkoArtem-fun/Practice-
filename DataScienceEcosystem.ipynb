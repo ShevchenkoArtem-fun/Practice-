{
 "cells": [
  {
   "cell_type": "markdown",
   "id": "f690fbc6-8e1a-4ba9-b629-a16724de207b",
   "metadata": {},
   "source": [
    "# Data Science Tools and Ecosystem"
   ]
  },
  {
   "cell_type": "markdown",
   "id": "2490f1ae-33a4-45ce-8d2e-67fef9b83707",
   "metadata": {},
   "source": [
    "In this notebook, Data Science Tools and Ecosystem are summarized."
   ]
  },
  {
   "cell_type": "markdown",
   "id": "141493f4-504d-4988-8617-bc8aea23c940",
   "metadata": {},
   "source": [
    "Some of the popular languages that Data Scientists use are:\n",
    "\n",
    "1. Python\n",
    "2. R\n",
    "3. SQL\n",
    "4. Julia\n",
    "5. Java\n"
   ]
  },
  {
   "cell_type": "markdown",
   "id": "00c4cd8d-72bb-4913-912a-48fe6de6b412",
   "metadata": {},
   "source": [
    "Some of the commonly used libraries used by Data Scientists include:\n",
    "\n",
    "1. NumPy\n",
    "2. Pandas\n",
    "3. Scikit-learn\n",
    "4. TensorFlow\n",
    "5. Matplotlib"
   ]
  },
  {
   "cell_type": "markdown",
   "id": "a307d85e-2a28-406e-8527-87ee8807bdf5",
   "metadata": {},
   "source": [
    "| Data Science Tools |\n",
    "|--------------------|\n",
    "| Jupyter Notebook   |\n",
    "| RStudio            |\n",
    "| VS Code            |\n"
   ]
  },
  {
   "cell_type": "markdown",
   "id": "dd9c91f1-1dc1-4ea1-b7b2-4422e595850f",
   "metadata": {},
   "source": [
    "### Below are a few examples of evaluating arithmetic expressions in Python"
   ]
  },
  {
   "cell_type": "code",
   "execution_count": 14,
   "id": "81fee01d-2b7e-416c-abe2-af305e37b2fb",
   "metadata": {},
   "outputs": [
    {
     "name": "stdout",
     "output_type": "stream",
     "text": [
      "17\n"
     ]
    }
   ],
   "source": [
    "# This is a simple arithmetic expression to multiply then add integers\n",
    "result = (3 * 4) + 5\n",
    "print(result)  # Expected output: 17"
   ]
  },
  {
   "cell_type": "code",
   "execution_count": 16,
   "id": "639ab4e1-1ab7-4b95-97a7-791f0acbf317",
   "metadata": {},
   "outputs": [
    {
     "name": "stdout",
     "output_type": "stream",
     "text": [
      "3.3333333333333335\n"
     ]
    }
   ],
   "source": [
    "# This will convert 200 minutes to hours by dividing by 60\n",
    "minutes = 200\n",
    "hours = minutes / 60\n",
    "print(hours)  # Expected output: 3.3333333333333335"
   ]
  },
  {
   "cell_type": "markdown",
   "id": "ca11523e-43f8-4d2c-9f49-5999732d3383",
   "metadata": {},
   "source": [
    "**Objectives:**\n",
    "\n",
    "- List popular languages for Data Science\n",
    "- Describe key tools used in Data Science\n",
    "- Perform basic arithmetic operations in Python\n",
    "- Convert units (e.g., minutes to hours) using Python\n",
    "- Demonstrate use of Markdown for documentation"
   ]
  },
  {
   "cell_type": "markdown",
   "id": "9ffe7243-6fed-4701-b20d-f381eca1bd54",
   "metadata": {},
   "source": [
    "## Author\n",
    "\n",
    "Artem"
   ]
  },
  {
   "cell_type": "code",
   "execution_count": null,
   "id": "15389561-f0aa-4ecd-a6b9-07afef367983",
   "metadata": {},
   "outputs": [],
   "source": []
  }
 ],
 "metadata": {
  "kernelspec": {
   "display_name": "Python 3 (ipykernel)",
   "language": "python",
   "name": "python3"
  },
  "language_info": {
   "codemirror_mode": {
    "name": "ipython",
    "version": 3
   },
   "file_extension": ".py",
   "mimetype": "text/x-python",
   "name": "python",
   "nbconvert_exporter": "python",
   "pygments_lexer": "ipython3",
   "version": "3.12.7"
  }
 },
 "nbformat": 4,
 "nbformat_minor": 5
}
